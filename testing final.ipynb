{
 "cells": [
  {
   "cell_type": "code",
   "execution_count": 1,
   "metadata": {},
   "outputs": [
    {
     "name": "stdout",
     "output_type": "stream",
     "text": [
      "C:\\Users\\Manas\\Downloads\n"
     ]
    }
   ],
   "source": [
    "import os\n",
    "import pandas as pd\n",
    "import numpy as np\n",
    "import matplotlib.pyplot as plt\n",
    "\n",
    "from sklearn.preprocessing import LabelEncoder\n",
    "from sklearn import model_selection\n",
    "\n",
    "from sklearn.neighbors import KNeighborsClassifier\n",
    "from sklearn.preprocessing import StandardScaler\n",
    "\n",
    "import math\n",
    "\n",
    "from sklearn.metrics import accuracy_score\n",
    "\n",
    "# import the dataset from .csv file\n",
    "print(os.getcwd())\n",
    "os.chdir(\"D:\\\\DWDM\")\n",
    "f_read = pd.read_csv(\"311_Service_Requests_from_2010_to_Present.csv\",sep=',', error_bad_lines=False, index_col=False, dtype='unicode')\n",
    "\"\"\"\n",
    "sep : the value seperator in the imported file\n",
    "error_bad_lines : Error raised on too many seperators in inmported file if True, not raised if False\n",
    "index_col : List of attributes to use as column headers; forces pandas not to use first row as headers if set to False\n",
    "dtype : encoding of imported file\n",
    "\"\"\"\n",
    "\n",
    "# Selecting relevant columns from imported file\n",
    "data_set=f_read.loc[:,['Created Date', 'Closed Date', 'Agency', 'Complaint Type','Location Type','City',\n",
    "                 'Facility Type','Status', 'Due Date','Resolution Action Updated Date','Borough','Park Borough']]\n",
    "data_set.columns=['Created_Date', 'Closed_Date', 'Agency', 'Complaint_Type','Location_Type','City',\n",
    "                 'Facility_Type','Status', 'Due_Date','Resolution_Action_Upd_Date','Borough','Park_Borough']\n",
    "\n"
   ]
  },
  {
   "cell_type": "code",
   "execution_count": 2,
   "metadata": {},
   "outputs": [
    {
     "name": "stdout",
     "output_type": "stream",
     "text": [
      "Agency :\n",
      " ['NYPD' nan]\n",
      "\n",
      "Complaint types :\n",
      " ['Noise - Street/Sidewalk' 'Blocked Driveway' 'Illegal Parking'\n",
      " 'Derelict Vehicle' 'Noise - Commercial' 'Noise - House of Worship'\n",
      " 'Posting Advertisement' 'Noise - Vehicle' 'Animal Abuse' 'Vending'\n",
      " 'Traffic' 'Drinking' 'Bike/Roller/Skate Chronic' 'Panhandling'\n",
      " 'Noise - Park' 'Homeless Encampment' 'Urinating in Public' 'Graffiti'\n",
      " 'Disorderly Youth' 'Illegal Fireworks' 'Ferry Complaint' nan]\n",
      "\n",
      "Location types :\n",
      " ['Street/Sidewalk' 'Club/Bar/Restaurant' 'Store/Commercial'\n",
      " 'House of Worship' 'Residential Building/House' 'Residential Building'\n",
      " 'Park/Playground' 'Vacant Lot' 'House and Store' 'Highway' 'Commercial'\n",
      " 'Parking Lot' 'Terminal' 'Subway Station' 'Roadway Tunnel' nan]\n",
      "\n",
      "Facility types :\n",
      " ['Precinct' nan]\n",
      "\n",
      "Statuses :\n",
      " ['Closed' 'Open' 'Assigned' nan]\n",
      "\n",
      "Cities :\n",
      " ['NEW YORK' 'ASTORIA' 'BRONX' 'ELMHURST' 'BROOKLYN' 'KEW GARDENS'\n",
      " 'JACKSON HEIGHTS' 'MIDDLE VILLAGE' 'REGO PARK' 'SAINT ALBANS' 'JAMAICA'\n",
      " 'SOUTH RICHMOND HILL' nan 'RIDGEWOOD' 'HOWARD BEACH' 'FOREST HILLS'\n",
      " 'STATEN ISLAND' 'OZONE PARK' 'RICHMOND HILL' 'WOODHAVEN' 'FLUSHING'\n",
      " 'CORONA' 'QUEENS VILLAGE' 'OAKLAND GARDENS' 'HOLLIS' 'MASPETH'\n",
      " 'EAST ELMHURST' 'SOUTH OZONE PARK' 'WOODSIDE' 'FRESH MEADOWS'\n",
      " 'LONG ISLAND CITY' 'ROCKAWAY PARK' 'SPRINGFIELD GARDENS' 'COLLEGE POINT'\n",
      " 'BAYSIDE' 'GLEN OAKS' 'FAR ROCKAWAY' 'BELLEROSE' 'LITTLE NECK'\n",
      " 'CAMBRIA HEIGHTS' 'ROSEDALE' 'SUNNYSIDE' 'WHITESTONE' 'ARVERNE'\n",
      " 'FLORAL PARK' 'NEW HYDE PARK' 'Astoria' 'CENTRAL PARK' 'BREEZY POINT'\n",
      " 'Long Island City' 'Woodside']\n",
      "\n",
      "Boroughs :\n",
      " ['MANHATTAN' 'QUEENS' 'BRONX' 'BROOKLYN' 'Unspecified' 'STATEN ISLAND' nan]\n",
      "\n",
      "Park Boroughs :\n",
      " ['MANHATTAN' 'QUEENS' 'BRONX' 'BROOKLYN' 'Unspecified' 'STATEN ISLAND' nan]\n",
      "\n"
     ]
    }
   ],
   "source": [
    "# Listing all possible values of attributes\n",
    "\n",
    "print(\"Agency :\\n\", data_set['Agency'].unique(), end=\"\\n\\n\")\n",
    "print(\"Complaint types :\\n\", data_set['Complaint_Type'].unique(), end=\"\\n\\n\")\n",
    "print(\"Location types :\\n\", data_set['Location_Type'].unique(), end=\"\\n\\n\")\n",
    "print(\"Facility types :\\n\", data_set['Facility_Type'].unique(), end=\"\\n\\n\")\n",
    "print(\"Statuses :\\n\", data_set['Status'].unique(), end=\"\\n\\n\")\n",
    "print(\"Cities :\\n\", data_set['City'].unique(), end=\"\\n\\n\")\n",
    "print(\"Boroughs :\\n\", data_set['Borough'].unique(), end=\"\\n\\n\")\n",
    "print(\"Park Boroughs :\\n\", data_set['Park_Borough'].unique(), end=\"\\n\\n\")"
   ]
  },
  {
   "cell_type": "code",
   "execution_count": 3,
   "metadata": {},
   "outputs": [
    {
     "name": "stdout",
     "output_type": "stream",
     "text": [
      "City      Complaint_Type         \n",
      "ARVERNE   Animal Abuse                3\n",
      "          Derelict Vehicle            1\n",
      "          Illegal Parking             6\n",
      "          Noise - Commercial          1\n",
      "          Noise - Street/Sidewalk     2\n",
      "                                     ..\n",
      "WOODSIDE  Noise - Street/Sidewalk    18\n",
      "          Noise - Vehicle            12\n",
      "          Traffic                     1\n",
      "          Vending                     2\n",
      "Woodside  Illegal Parking             1\n",
      "Length: 445, dtype: int64\n"
     ]
    }
   ],
   "source": [
    "# checking frequency of complaint type per city\n",
    "city_complaint_type=data_set.groupby(['City','Complaint_Type'])\n",
    "print(city_complaint_type.size())"
   ]
  },
  {
   "cell_type": "code",
   "execution_count": 4,
   "metadata": {},
   "outputs": [
    {
     "name": "stdout",
     "output_type": "stream",
     "text": [
      "Complaint_Type\n",
      "Animal Abuse                  616\n",
      "Bike/Roller/Skate Chronic      35\n",
      "Blocked Driveway             5755\n",
      "Derelict Vehicle             1335\n",
      "Disorderly Youth               19\n",
      "Drinking                      111\n",
      "Ferry Complaint                 1\n",
      "Graffiti                        5\n",
      "Homeless Encampment           357\n",
      "Illegal Fireworks               5\n",
      "Illegal Parking              5552\n",
      "Noise - Commercial           2024\n",
      "Noise - House of Worship       85\n",
      "Noise - Park                  351\n",
      "Noise - Street/Sidewalk      4083\n",
      "Noise - Vehicle              1279\n",
      "Panhandling                    26\n",
      "Posting Advertisement          48\n",
      "Traffic                       218\n",
      "Urinating in Public            44\n",
      "Vending                       349\n",
      "dtype: int64\n"
     ]
    }
   ],
   "source": [
    "# List of number of complaints of all complaint types\n",
    "complaint_type = data_set.groupby('Complaint_Type')\n",
    "complaint_analysis=complaint_type.size()\n",
    "print(complaint_type.size())"
   ]
  },
  {
   "cell_type": "code",
   "execution_count": 5,
   "metadata": {},
   "outputs": [
    {
     "data": {
      "text/html": [
       "<div>\n",
       "<style scoped>\n",
       "    .dataframe tbody tr th:only-of-type {\n",
       "        vertical-align: middle;\n",
       "    }\n",
       "\n",
       "    .dataframe tbody tr th {\n",
       "        vertical-align: top;\n",
       "    }\n",
       "\n",
       "    .dataframe thead th {\n",
       "        text-align: right;\n",
       "    }\n",
       "</style>\n",
       "<table border=\"1\" class=\"dataframe\">\n",
       "  <thead>\n",
       "    <tr style=\"text-align: right;\">\n",
       "      <th></th>\n",
       "      <th>Complaint_Type</th>\n",
       "      <th>FREQ</th>\n",
       "    </tr>\n",
       "  </thead>\n",
       "  <tbody>\n",
       "    <tr>\n",
       "      <th>0</th>\n",
       "      <td>Animal Abuse</td>\n",
       "      <td>616</td>\n",
       "    </tr>\n",
       "    <tr>\n",
       "      <th>1</th>\n",
       "      <td>Bike/Roller/Skate Chronic</td>\n",
       "      <td>35</td>\n",
       "    </tr>\n",
       "    <tr>\n",
       "      <th>2</th>\n",
       "      <td>Blocked Driveway</td>\n",
       "      <td>5755</td>\n",
       "    </tr>\n",
       "    <tr>\n",
       "      <th>3</th>\n",
       "      <td>Derelict Vehicle</td>\n",
       "      <td>1335</td>\n",
       "    </tr>\n",
       "    <tr>\n",
       "      <th>4</th>\n",
       "      <td>Disorderly Youth</td>\n",
       "      <td>19</td>\n",
       "    </tr>\n",
       "    <tr>\n",
       "      <th>5</th>\n",
       "      <td>Drinking</td>\n",
       "      <td>111</td>\n",
       "    </tr>\n",
       "    <tr>\n",
       "      <th>6</th>\n",
       "      <td>Ferry Complaint</td>\n",
       "      <td>1</td>\n",
       "    </tr>\n",
       "    <tr>\n",
       "      <th>7</th>\n",
       "      <td>Graffiti</td>\n",
       "      <td>5</td>\n",
       "    </tr>\n",
       "    <tr>\n",
       "      <th>8</th>\n",
       "      <td>Homeless Encampment</td>\n",
       "      <td>357</td>\n",
       "    </tr>\n",
       "    <tr>\n",
       "      <th>9</th>\n",
       "      <td>Illegal Fireworks</td>\n",
       "      <td>5</td>\n",
       "    </tr>\n",
       "    <tr>\n",
       "      <th>10</th>\n",
       "      <td>Illegal Parking</td>\n",
       "      <td>5552</td>\n",
       "    </tr>\n",
       "    <tr>\n",
       "      <th>11</th>\n",
       "      <td>Noise - Commercial</td>\n",
       "      <td>2024</td>\n",
       "    </tr>\n",
       "    <tr>\n",
       "      <th>12</th>\n",
       "      <td>Noise - House of Worship</td>\n",
       "      <td>85</td>\n",
       "    </tr>\n",
       "    <tr>\n",
       "      <th>13</th>\n",
       "      <td>Noise - Park</td>\n",
       "      <td>351</td>\n",
       "    </tr>\n",
       "    <tr>\n",
       "      <th>14</th>\n",
       "      <td>Noise - Street/Sidewalk</td>\n",
       "      <td>4083</td>\n",
       "    </tr>\n",
       "    <tr>\n",
       "      <th>15</th>\n",
       "      <td>Noise - Vehicle</td>\n",
       "      <td>1279</td>\n",
       "    </tr>\n",
       "    <tr>\n",
       "      <th>16</th>\n",
       "      <td>Panhandling</td>\n",
       "      <td>26</td>\n",
       "    </tr>\n",
       "    <tr>\n",
       "      <th>17</th>\n",
       "      <td>Posting Advertisement</td>\n",
       "      <td>48</td>\n",
       "    </tr>\n",
       "    <tr>\n",
       "      <th>18</th>\n",
       "      <td>Traffic</td>\n",
       "      <td>218</td>\n",
       "    </tr>\n",
       "    <tr>\n",
       "      <th>19</th>\n",
       "      <td>Urinating in Public</td>\n",
       "      <td>44</td>\n",
       "    </tr>\n",
       "    <tr>\n",
       "      <th>20</th>\n",
       "      <td>Vending</td>\n",
       "      <td>349</td>\n",
       "    </tr>\n",
       "  </tbody>\n",
       "</table>\n",
       "</div>"
      ],
      "text/plain": [
       "               Complaint_Type  FREQ\n",
       "0                Animal Abuse   616\n",
       "1   Bike/Roller/Skate Chronic    35\n",
       "2            Blocked Driveway  5755\n",
       "3            Derelict Vehicle  1335\n",
       "4            Disorderly Youth    19\n",
       "5                    Drinking   111\n",
       "6             Ferry Complaint     1\n",
       "7                    Graffiti     5\n",
       "8         Homeless Encampment   357\n",
       "9           Illegal Fireworks     5\n",
       "10            Illegal Parking  5552\n",
       "11         Noise - Commercial  2024\n",
       "12   Noise - House of Worship    85\n",
       "13               Noise - Park   351\n",
       "14    Noise - Street/Sidewalk  4083\n",
       "15            Noise - Vehicle  1279\n",
       "16                Panhandling    26\n",
       "17      Posting Advertisement    48\n",
       "18                    Traffic   218\n",
       "19        Urinating in Public    44\n",
       "20                    Vending   349"
      ]
     },
     "execution_count": 5,
     "metadata": {},
     "output_type": "execute_result"
    }
   ],
   "source": [
    "# Convert series generated in above cell to dataframe\n",
    "df=complaint_analysis.to_frame().reset_index()\n",
    "df.columns=['Complaint_Type','FREQ']\n",
    "df"
   ]
  },
  {
   "cell_type": "code",
   "execution_count": 6,
   "metadata": {},
   "outputs": [],
   "source": [
    "sort_1=df.sort_values('FREQ',ascending=False)    # sort complaint types in ascending order of their frequenct"
   ]
  },
  {
   "cell_type": "code",
   "execution_count": 7,
   "metadata": {},
   "outputs": [
    {
     "data": {
      "image/png": "[encoded data removed]",
      "text/plain": [
       "<Figure size 432x288 with 1 Axes>"
      ]
     },
     "metadata": {
      "needs_background": "light"
     },
     "output_type": "display_data"
    }
   ],
   "source": [
    "# plot bar graph - complaint type v/s frequency\n",
    "x=range(10)\n",
    "plt.bar(sort_1.head(10).Complaint_Type, sort_1.head(10).FREQ)\n",
    "plt.xticks(x, sort_1.head(10).Complaint_Type, rotation='vertical')\n",
    "plt.legend(['complaint'])\n",
    "plt.show()\n"
   ]
  },
  {
   "cell_type": "code",
   "execution_count": 8,
   "metadata": {},
   "outputs": [
    {
     "name": "stdout",
     "output_type": "stream",
     "text": [
      "Created_Date                  164824\n",
      "Closed_Date                   165084\n",
      "Agency                        164824\n",
      "Complaint_Type                164824\n",
      "Location_Type                 164824\n",
      "City                          165107\n",
      "Facility_Type                 165084\n",
      "Status                        164824\n",
      "Due_Date                      164825\n",
      "Resolution_Action_Upd_Date    165081\n",
      "Borough                       164824\n",
      "Park_Borough                  164824\n",
      "dtype: int64\n"
     ]
    }
   ],
   "source": [
    "print(data_set.isnull().sum())    # Number of null values in all Columns"
   ]
  },
  {
   "cell_type": "code",
   "execution_count": 9,
   "metadata": {},
   "outputs": [
    {
     "name": "stdout",
     "output_type": "stream",
     "text": [
      "Created_Date                  object\n",
      "Closed_Date                   object\n",
      "Agency                        object\n",
      "Complaint_Type                object\n",
      "Location_Type                 object\n",
      "City                          object\n",
      "Facility_Type                 object\n",
      "Status                        object\n",
      "Due_Date                      object\n",
      "Resolution_Action_Upd_Date    object\n",
      "Borough                       object\n",
      "Park_Borough                  object\n",
      "dtype: object\n"
     ]
    }
   ],
   "source": [
    "print(data_set.dtypes)    # Data types of each Column"
   ]
  },
  {
   "cell_type": "code",
   "execution_count": 10,
   "metadata": {},
   "outputs": [
    {
     "data": {
      "text/plain": [
       "0         NEW YORK\n",
       "1          ASTORIA\n",
       "2            BRONX\n",
       "3            BRONX\n",
       "4         ELMHURST\n",
       "            ...   \n",
       "187117     Unknown\n",
       "187118     Unknown\n",
       "187119     Unknown\n",
       "187120     Unknown\n",
       "187121     Unknown\n",
       "Name: City, Length: 187122, dtype: object"
      ]
     },
     "execution_count": 10,
     "metadata": {},
     "output_type": "execute_result"
    }
   ],
   "source": [
    "# replace all null values in column \"City\" with \"Unkown\"\n",
    "data_set['City']=data_set['City'].fillna('Unknown')\n",
    "data_set['City']"
   ]
  },
  {
   "cell_type": "code",
   "execution_count": 11,
   "metadata": {},
   "outputs": [
    {
     "data": {
      "text/plain": [
       "0         Precinct\n",
       "1         Precinct\n",
       "2         Precinct\n",
       "3         Precinct\n",
       "4         Precinct\n",
       "            ...   \n",
       "187117    Precinct\n",
       "187118    Precinct\n",
       "187119    Precinct\n",
       "187120    Precinct\n",
       "187121    Precinct\n",
       "Name: Facility_Type, Length: 187122, dtype: object"
      ]
     },
     "execution_count": 11,
     "metadata": {},
     "output_type": "execute_result"
    }
   ],
   "source": [
    "# Compute mode of Facility type\n",
    "a=data_set['Facility_Type'].mode()[0]\n",
    "a\n",
    "\n",
    "# Replace all null values in \"Facility Type\" with the modal value\n",
    "data_set['Facility_Type']=data_set['Facility_Type'].fillna(a)\n",
    "data_set['Facility_Type']"
   ]
  },
  {
   "cell_type": "code",
   "execution_count": 12,
   "metadata": {},
   "outputs": [
    {
     "name": "stdout",
     "output_type": "stream",
     "text": [
      "Street/Sidewalk\n"
     ]
    },
    {
     "data": {
      "text/plain": [
       "0         Street/Sidewalk\n",
       "1         Street/Sidewalk\n",
       "2         Street/Sidewalk\n",
       "3         Street/Sidewalk\n",
       "4         Street/Sidewalk\n",
       "               ...       \n",
       "187117    Street/Sidewalk\n",
       "187118    Street/Sidewalk\n",
       "187119    Street/Sidewalk\n",
       "187120    Street/Sidewalk\n",
       "187121    Street/Sidewalk\n",
       "Name: Location_Type, Length: 187122, dtype: object"
      ]
     },
     "execution_count": 12,
     "metadata": {},
     "output_type": "execute_result"
    }
   ],
   "source": [
    "# Compute mode of \"Location Type\" column\n",
    "data_set['Location_Type']\n",
    "b=data_set['Location_Type'].mode()[0]\n",
    "print(b)\n",
    "\n",
    "# Replace all null values in \"Location Type\" with the computed modal value\n",
    "data_set['Location_Type']=data_set['Location_Type'].fillna(b)\n",
    "data_set['Location_Type']"
   ]
  },
  {
   "cell_type": "code",
   "execution_count": 13,
   "metadata": {},
   "outputs": [
    {
     "data": {
      "text/plain": [
       "0         NYPD\n",
       "1         NYPD\n",
       "2         NYPD\n",
       "3         NYPD\n",
       "4         NYPD\n",
       "          ... \n",
       "187117    NYPD\n",
       "187118    NYPD\n",
       "187119    NYPD\n",
       "187120    NYPD\n",
       "187121    NYPD\n",
       "Name: Agency, Length: 187122, dtype: object"
      ]
     },
     "execution_count": 13,
     "metadata": {},
     "output_type": "execute_result"
    }
   ],
   "source": [
    "# Replace all null values in \"Agency\" with the modal value\n",
    "data_set['Agency']=data_set['Agency'].fillna(data_set['Agency'].mode()[0])\n",
    "data_set['Agency']"
   ]
  },
  {
   "cell_type": "code",
   "execution_count": 14,
   "metadata": {},
   "outputs": [
    {
     "data": {
      "text/plain": [
       "0         Noise - Street/Sidewalk\n",
       "1                Blocked Driveway\n",
       "2                Blocked Driveway\n",
       "3                 Illegal Parking\n",
       "4                 Illegal Parking\n",
       "                   ...           \n",
       "187117           Blocked Driveway\n",
       "187118           Blocked Driveway\n",
       "187119           Blocked Driveway\n",
       "187120           Blocked Driveway\n",
       "187121           Blocked Driveway\n",
       "Name: Complaint_Type, Length: 187122, dtype: object"
      ]
     },
     "execution_count": 14,
     "metadata": {},
     "output_type": "execute_result"
    }
   ],
   "source": [
    "# Compute mode of \"Complaint Type\"\n",
    "ct=data_set['Complaint_Type'].mode()[0]\n",
    "ct\n",
    "\n",
    "# Replace all null values in \"Complaint Type\" with the modal value\n",
    "data_set['Complaint_Type']=data_set['Complaint_Type'].fillna(ct)\n",
    "data_set['Complaint_Type']"
   ]
  },
  {
   "cell_type": "code",
   "execution_count": 15,
   "metadata": {},
   "outputs": [
    {
     "data": {
      "text/plain": [
       "0          Closed\n",
       "1          Closed\n",
       "2          Closed\n",
       "3          Closed\n",
       "4          Closed\n",
       "           ...   \n",
       "187117    Unknown\n",
       "187118    Unknown\n",
       "187119    Unknown\n",
       "187120    Unknown\n",
       "187121    Unknown\n",
       "Name: Status, Length: 187122, dtype: object"
      ]
     },
     "execution_count": 15,
     "metadata": {},
     "output_type": "execute_result"
    }
   ],
   "source": [
    "# replace all null values in column \"Status\" with \"Unkown\"\n",
    "data_set['Status']=data_set['Status'].fillna('Unknown')\n",
    "data_set['Status']"
   ]
  },
  {
   "cell_type": "code",
   "execution_count": 16,
   "metadata": {},
   "outputs": [
    {
     "name": "stdout",
     "output_type": "stream",
     "text": [
      "BROOKLYN\n"
     ]
    },
    {
     "data": {
      "text/plain": [
       "0         MANHATTAN\n",
       "1            QUEENS\n",
       "2             BRONX\n",
       "3             BRONX\n",
       "4            QUEENS\n",
       "            ...    \n",
       "187117     BROOKLYN\n",
       "187118     BROOKLYN\n",
       "187119     BROOKLYN\n",
       "187120     BROOKLYN\n",
       "187121     BROOKLYN\n",
       "Name: Borough, Length: 187122, dtype: object"
      ]
     },
     "execution_count": 16,
     "metadata": {},
     "output_type": "execute_result"
    }
   ],
   "source": [
    "# Compute mode of \"Borough\"\n",
    "br=data_set['Borough'].mode()[0]\n",
    "print(br)\n",
    "\n",
    "# Replace all null values in \"Borough\" with the modal value\n",
    "data_set['Borough']=data_set['Borough'].fillna(br)\n",
    "data_set['Borough']"
   ]
  },
  {
   "cell_type": "code",
   "execution_count": 17,
   "metadata": {},
   "outputs": [
    {
     "name": "stdout",
     "output_type": "stream",
     "text": [
      "BROOKLYN\n"
     ]
    },
    {
     "data": {
      "text/plain": [
       "0         MANHATTAN\n",
       "1            QUEENS\n",
       "2             BRONX\n",
       "3             BRONX\n",
       "4            QUEENS\n",
       "            ...    \n",
       "187117     BROOKLYN\n",
       "187118     BROOKLYN\n",
       "187119     BROOKLYN\n",
       "187120     BROOKLYN\n",
       "187121     BROOKLYN\n",
       "Name: Park_Borough, Length: 187122, dtype: object"
      ]
     },
     "execution_count": 17,
     "metadata": {},
     "output_type": "execute_result"
    }
   ],
   "source": [
    "# Compute mode of \"Park Borough\"\n",
    "pbr=data_set['Park_Borough'].mode()[0]\n",
    "print(pbr)\n",
    "\n",
    "# Replace all null values in \"Park Borough\" with the modal value\n",
    "data_set['Park_Borough']=data_set['Park_Borough'].fillna(pbr)\n",
    "data_set['Park_Borough']"
   ]
  },
  {
   "cell_type": "code",
   "execution_count": 18,
   "metadata": {},
   "outputs": [],
   "source": [
    "lbe=LabelEncoder()    # Encoder required to encode string values into integers so that they can be fed to the algorithm"
   ]
  },
  {
   "cell_type": "code",
   "execution_count": 19,
   "metadata": {},
   "outputs": [
    {
     "name": "stdout",
     "output_type": "stream",
     "text": [
      "NYPD : [0]\n"
     ]
    }
   ],
   "source": [
    "# encode string values in \"Agency\" to integer values\n",
    "agencies = data_set['Agency'].unique()\n",
    "data_set['Agency']=lbe.fit_transform(data_set['Agency'])\n",
    "print(*map(lambda x: f\"{agencies[x]} : {lbe.transform([agencies[x]])}\", range(len(agencies))), sep='\\n')"
   ]
  },
  {
   "cell_type": "code",
   "execution_count": 20,
   "metadata": {},
   "outputs": [
    {
     "name": "stdout",
     "output_type": "stream",
     "text": [
      "Noise - Street/Sidewalk : [14]\n",
      "Blocked Driveway : [2]\n",
      "Illegal Parking : [10]\n",
      "Derelict Vehicle : [3]\n",
      "Noise - Commercial : [11]\n",
      "Noise - House of Worship : [12]\n",
      "Posting Advertisement : [17]\n",
      "Noise - Vehicle : [15]\n",
      "Animal Abuse : [0]\n",
      "Vending : [20]\n",
      "Traffic : [18]\n",
      "Drinking : [5]\n",
      "Bike/Roller/Skate Chronic : [1]\n",
      "Panhandling : [16]\n",
      "Noise - Park : [13]\n",
      "Homeless Encampment : [8]\n",
      "Urinating in Public : [19]\n",
      "Graffiti : [7]\n",
      "Disorderly Youth : [4]\n",
      "Illegal Fireworks : [9]\n",
      "Ferry Complaint : [6]\n"
     ]
    }
   ],
   "source": [
    "# encode string values in \"Complaint Type\" to integer values\n",
    "complaint_types = data_set['Complaint_Type'].unique()\n",
    "data_set['Complaint_Type']=lbe.fit_transform(data_set['Complaint_Type'])\n",
    "print(*map(lambda x: f\"{complaint_types[x]} : {lbe.transform([complaint_types[x]])}\", range(len(complaint_types))), sep='\\n')"
   ]
  },
  {
   "cell_type": "code",
   "execution_count": 21,
   "metadata": {},
   "outputs": [
    {
     "name": "stdout",
     "output_type": "stream",
     "text": [
      "Street/Sidewalk : [11]\n",
      "Club/Bar/Restaurant : [0]\n",
      "Store/Commercial : [10]\n",
      "House of Worship : [4]\n",
      "Residential Building/House : [8]\n",
      "Residential Building : [7]\n",
      "Park/Playground : [5]\n",
      "Vacant Lot : [14]\n",
      "House and Store : [3]\n",
      "Highway : [2]\n",
      "Commercial : [1]\n",
      "Parking Lot : [6]\n",
      "Terminal : [13]\n",
      "Subway Station : [12]\n",
      "Roadway Tunnel : [9]\n"
     ]
    }
   ],
   "source": [
    "# encode string values in \"Location Type\" to integer values\n",
    "location_types = data_set['Location_Type'].unique()\n",
    "data_set['Location_Type']=lbe.fit_transform(data_set['Location_Type'])\n",
    "print(*map(lambda x: f\"{location_types[x]} : {lbe.transform([location_types[x]])}\", range(len(location_types))), sep='\\n')"
   ]
  },
  {
   "cell_type": "code",
   "execution_count": 22,
   "metadata": {},
   "outputs": [
    {
     "name": "stdout",
     "output_type": "stream",
     "text": [
      "NEW YORK : [31]\n",
      "ASTORIA : [1]\n",
      "BRONX : [6]\n",
      "ELMHURST : [13]\n",
      "BROOKLYN : [7]\n",
      "KEW GARDENS : [24]\n",
      "JACKSON HEIGHTS : [22]\n",
      "MIDDLE VILLAGE : [29]\n",
      "REGO PARK : [35]\n",
      "SAINT ALBANS : [40]\n",
      "JAMAICA : [23]\n",
      "SOUTH RICHMOND HILL : [42]\n",
      "Unknown : [46]\n",
      "RIDGEWOOD : [37]\n",
      "HOWARD BEACH : [21]\n",
      "FOREST HILLS : [17]\n",
      "STATEN ISLAND : [44]\n",
      "OZONE PARK : [33]\n",
      "RICHMOND HILL : [36]\n",
      "WOODHAVEN : [48]\n",
      "FLUSHING : [16]\n",
      "CORONA : [11]\n",
      "QUEENS VILLAGE : [34]\n",
      "OAKLAND GARDENS : [32]\n",
      "HOLLIS : [20]\n",
      "MASPETH : [28]\n",
      "EAST ELMHURST : [12]\n",
      "SOUTH OZONE PARK : [41]\n",
      "WOODSIDE : [49]\n",
      "FRESH MEADOWS : [18]\n",
      "LONG ISLAND CITY : [26]\n",
      "ROCKAWAY PARK : [38]\n",
      "SPRINGFIELD GARDENS : [43]\n",
      "COLLEGE POINT : [10]\n",
      "BAYSIDE : [3]\n",
      "GLEN OAKS : [19]\n",
      "FAR ROCKAWAY : [14]\n",
      "BELLEROSE : [4]\n",
      "LITTLE NECK : [25]\n",
      "CAMBRIA HEIGHTS : [8]\n",
      "ROSEDALE : [39]\n",
      "SUNNYSIDE : [45]\n",
      "WHITESTONE : [47]\n",
      "ARVERNE : [0]\n",
      "FLORAL PARK : [15]\n",
      "NEW HYDE PARK : [30]\n",
      "Astoria : [2]\n",
      "CENTRAL PARK : [9]\n",
      "BREEZY POINT : [5]\n",
      "Long Island City : [27]\n",
      "Woodside : [50]\n"
     ]
    }
   ],
   "source": [
    "# encode string values in \"City\" to integer values\n",
    "cities = data_set['City'].unique()\n",
    "data_set['City']=lbe.fit_transform(data_set['City'])\n",
    "print(*map(lambda x: f\"{cities[x]} : {lbe.transform([cities[x]])}\", range(len(cities))), sep='\\n')"
   ]
  },
  {
   "cell_type": "code",
   "execution_count": 23,
   "metadata": {},
   "outputs": [
    {
     "name": "stdout",
     "output_type": "stream",
     "text": [
      "Precinct : [0]\n"
     ]
    }
   ],
   "source": [
    "# encode string values in \"Facility Type\" to integer values\n",
    "facility_types = data_set['Facility_Type'].unique()\n",
    "data_set['Facility_Type']=lbe.fit_transform(data_set['Facility_Type'])\n",
    "print(*map(lambda x: f\"{facility_types[x]} : {lbe.transform([facility_types[x]])}\", range(len(facility_types))), sep='\\n')"
   ]
  },
  {
   "cell_type": "code",
   "execution_count": 24,
   "metadata": {},
   "outputs": [
    {
     "name": "stdout",
     "output_type": "stream",
     "text": [
      "MANHATTAN : [2]\n",
      "QUEENS : [3]\n",
      "BRONX : [0]\n",
      "BROOKLYN : [1]\n",
      "Unspecified : [5]\n",
      "STATEN ISLAND : [4]\n"
     ]
    }
   ],
   "source": [
    "# encode string values in \"Borough\" to integer values\n",
    "boroughs = data_set['Borough'].unique()\n",
    "data_set['Borough']=lbe.fit_transform(data_set['Borough'])\n",
    "print(*map(lambda x: f\"{boroughs[x]} : {lbe.transform([boroughs[x]])}\", range(len(boroughs))), sep='\\n')"
   ]
  },
  {
   "cell_type": "code",
   "execution_count": 25,
   "metadata": {},
   "outputs": [
    {
     "name": "stdout",
     "output_type": "stream",
     "text": [
      "MANHATTAN : [2]\n",
      "QUEENS : [3]\n",
      "BRONX : [0]\n",
      "BROOKLYN : [1]\n",
      "Unspecified : [5]\n",
      "STATEN ISLAND : [4]\n"
     ]
    }
   ],
   "source": [
    "# encode string values in \"Park Borough\" to integer values\n",
    "park_boroughs = data_set['Park_Borough'].unique()\n",
    "data_set['Park_Borough']=lbe.fit_transform(data_set['Park_Borough'])\n",
    "print(*map(lambda x: f\"{park_boroughs[x]} : {lbe.transform([park_boroughs[x]])}\", range(len(park_boroughs))), sep='\\n')"
   ]
  },
  {
   "cell_type": "code",
   "execution_count": 26,
   "metadata": {},
   "outputs": [
    {
     "name": "stdout",
     "output_type": "stream",
     "text": [
      "Closed : [1]\n",
      "Open : [2]\n",
      "Assigned : [0]\n",
      "Unknown : [3]\n"
     ]
    }
   ],
   "source": [
    "# encode string values in \"Status\" to integer values\n",
    "sts=data_set['Status'].unique()\n",
    "data_set['Status']=lbe.fit_transform(data_set['Status'])\n",
    "print(*map(lambda x: f\"{sts[x]} : {lbe.transform([sts[x]])}\", range(len(sts))), sep='\\n')"
   ]
  },
  {
   "cell_type": "code",
   "execution_count": 27,
   "metadata": {},
   "outputs": [
    {
     "name": "stdout",
     "output_type": "stream",
     "text": [
      "         Agency  Complaint_Type  Location_Type           City  Facility_Type  \\\n",
      "count  187122.0   187122.000000  187122.000000  187122.000000       187122.0   \n",
      "mean        0.0        2.786722      10.913196      42.754369            0.0   \n",
      "std         0.0        2.806810       0.852035      10.072933            0.0   \n",
      "min         0.0        0.000000       0.000000       0.000000            0.0   \n",
      "25%         0.0        2.000000      11.000000      46.000000            0.0   \n",
      "50%         0.0        2.000000      11.000000      46.000000            0.0   \n",
      "75%         0.0        2.000000      11.000000      46.000000            0.0   \n",
      "max         0.0       20.000000      14.000000      50.000000            0.0   \n",
      "\n",
      "              Status        Borough   Park_Borough  \n",
      "count  187122.000000  187122.000000  187122.000000  \n",
      "mean        2.761567       1.092164       1.092164  \n",
      "std         0.649323       0.484333       0.484333  \n",
      "min         0.000000       0.000000       0.000000  \n",
      "25%         3.000000       1.000000       1.000000  \n",
      "50%         3.000000       1.000000       1.000000  \n",
      "75%         3.000000       1.000000       1.000000  \n",
      "max         3.000000       5.000000       5.000000  \n"
     ]
    }
   ],
   "source": [
    "print(data_set.describe())    # describe encoded dataset"
   ]
  },
  {
   "cell_type": "code",
   "execution_count": 28,
   "metadata": {},
   "outputs": [
    {
     "name": "stdout",
     "output_type": "stream",
     "text": [
      "Created_Date                  object\n",
      "Closed_Date                   object\n",
      "Agency                         int32\n",
      "Complaint_Type                 int32\n",
      "Location_Type                  int32\n",
      "City                           int32\n",
      "Facility_Type                  int32\n",
      "Status                         int32\n",
      "Due_Date                      object\n",
      "Resolution_Action_Upd_Date    object\n",
      "Borough                        int32\n",
      "Park_Borough                   int32\n",
      "dtype: object\n"
     ]
    }
   ],
   "source": [
    "print(data_set.dtypes)    # display datatype of all columns"
   ]
  },
  {
   "cell_type": "code",
   "execution_count": 29,
   "metadata": {},
   "outputs": [
    {
     "data": {
      "text/html": [
       "<div>\n",
       "<style scoped>\n",
       "    .dataframe tbody tr th:only-of-type {\n",
       "        vertical-align: middle;\n",
       "    }\n",
       "\n",
       "    .dataframe tbody tr th {\n",
       "        vertical-align: top;\n",
       "    }\n",
       "\n",
       "    .dataframe thead th {\n",
       "        text-align: right;\n",
       "    }\n",
       "</style>\n",
       "<table border=\"1\" class=\"dataframe\">\n",
       "  <thead>\n",
       "    <tr style=\"text-align: right;\">\n",
       "      <th></th>\n",
       "      <th>Complaint_Type</th>\n",
       "      <th>Location_Type</th>\n",
       "      <th>City</th>\n",
       "      <th>Facility_Type</th>\n",
       "      <th>Status</th>\n",
       "      <th>Borough</th>\n",
       "      <th>Park_Borough</th>\n",
       "    </tr>\n",
       "  </thead>\n",
       "  <tbody>\n",
       "    <tr>\n",
       "      <th>0</th>\n",
       "      <td>14</td>\n",
       "      <td>11</td>\n",
       "      <td>31</td>\n",
       "      <td>0</td>\n",
       "      <td>1</td>\n",
       "      <td>2</td>\n",
       "      <td>2</td>\n",
       "    </tr>\n",
       "    <tr>\n",
       "      <th>1</th>\n",
       "      <td>2</td>\n",
       "      <td>11</td>\n",
       "      <td>1</td>\n",
       "      <td>0</td>\n",
       "      <td>1</td>\n",
       "      <td>3</td>\n",
       "      <td>3</td>\n",
       "    </tr>\n",
       "    <tr>\n",
       "      <th>2</th>\n",
       "      <td>2</td>\n",
       "      <td>11</td>\n",
       "      <td>6</td>\n",
       "      <td>0</td>\n",
       "      <td>1</td>\n",
       "      <td>0</td>\n",
       "      <td>0</td>\n",
       "    </tr>\n",
       "    <tr>\n",
       "      <th>3</th>\n",
       "      <td>10</td>\n",
       "      <td>11</td>\n",
       "      <td>6</td>\n",
       "      <td>0</td>\n",
       "      <td>1</td>\n",
       "      <td>0</td>\n",
       "      <td>0</td>\n",
       "    </tr>\n",
       "    <tr>\n",
       "      <th>4</th>\n",
       "      <td>10</td>\n",
       "      <td>11</td>\n",
       "      <td>13</td>\n",
       "      <td>0</td>\n",
       "      <td>1</td>\n",
       "      <td>3</td>\n",
       "      <td>3</td>\n",
       "    </tr>\n",
       "    <tr>\n",
       "      <th>...</th>\n",
       "      <td>...</td>\n",
       "      <td>...</td>\n",
       "      <td>...</td>\n",
       "      <td>...</td>\n",
       "      <td>...</td>\n",
       "      <td>...</td>\n",
       "      <td>...</td>\n",
       "    </tr>\n",
       "    <tr>\n",
       "      <th>187117</th>\n",
       "      <td>2</td>\n",
       "      <td>11</td>\n",
       "      <td>46</td>\n",
       "      <td>0</td>\n",
       "      <td>3</td>\n",
       "      <td>1</td>\n",
       "      <td>1</td>\n",
       "    </tr>\n",
       "    <tr>\n",
       "      <th>187118</th>\n",
       "      <td>2</td>\n",
       "      <td>11</td>\n",
       "      <td>46</td>\n",
       "      <td>0</td>\n",
       "      <td>3</td>\n",
       "      <td>1</td>\n",
       "      <td>1</td>\n",
       "    </tr>\n",
       "    <tr>\n",
       "      <th>187119</th>\n",
       "      <td>2</td>\n",
       "      <td>11</td>\n",
       "      <td>46</td>\n",
       "      <td>0</td>\n",
       "      <td>3</td>\n",
       "      <td>1</td>\n",
       "      <td>1</td>\n",
       "    </tr>\n",
       "    <tr>\n",
       "      <th>187120</th>\n",
       "      <td>2</td>\n",
       "      <td>11</td>\n",
       "      <td>46</td>\n",
       "      <td>0</td>\n",
       "      <td>3</td>\n",
       "      <td>1</td>\n",
       "      <td>1</td>\n",
       "    </tr>\n",
       "    <tr>\n",
       "      <th>187121</th>\n",
       "      <td>2</td>\n",
       "      <td>11</td>\n",
       "      <td>46</td>\n",
       "      <td>0</td>\n",
       "      <td>3</td>\n",
       "      <td>1</td>\n",
       "      <td>1</td>\n",
       "    </tr>\n",
       "  </tbody>\n",
       "</table>\n",
       "<p>187122 rows × 7 columns</p>\n",
       "</div>"
      ],
      "text/plain": [
       "        Complaint_Type  Location_Type  City  Facility_Type  Status  Borough  \\\n",
       "0                   14             11    31              0       1        2   \n",
       "1                    2             11     1              0       1        3   \n",
       "2                    2             11     6              0       1        0   \n",
       "3                   10             11     6              0       1        0   \n",
       "4                   10             11    13              0       1        3   \n",
       "...                ...            ...   ...            ...     ...      ...   \n",
       "187117               2             11    46              0       3        1   \n",
       "187118               2             11    46              0       3        1   \n",
       "187119               2             11    46              0       3        1   \n",
       "187120               2             11    46              0       3        1   \n",
       "187121               2             11    46              0       3        1   \n",
       "\n",
       "        Park_Borough  \n",
       "0                  2  \n",
       "1                  3  \n",
       "2                  0  \n",
       "3                  0  \n",
       "4                  3  \n",
       "...              ...  \n",
       "187117             1  \n",
       "187118             1  \n",
       "187119             1  \n",
       "187120             1  \n",
       "187121             1  \n",
       "\n",
       "[187122 rows x 7 columns]"
      ]
     },
     "execution_count": 29,
     "metadata": {},
     "output_type": "execute_result"
    }
   ],
   "source": [
    "# drop all columns that are not necessary\n",
    "data_set.drop(['Created_Date','Closed_Date','Due_Date','Resolution_Action_Upd_Date','Agency'],axis=1,inplace = True)\n",
    "data_set"
   ]
  },
  {
   "cell_type": "code",
   "execution_count": 30,
   "metadata": {},
   "outputs": [
    {
     "data": {
      "text/plain": [
       "0         1\n",
       "1         1\n",
       "2         1\n",
       "3         1\n",
       "4         1\n",
       "         ..\n",
       "187117    3\n",
       "187118    3\n",
       "187119    3\n",
       "187120    3\n",
       "187121    3\n",
       "Name: Status, Length: 187122, dtype: int32"
      ]
     },
     "execution_count": 30,
     "metadata": {},
     "output_type": "execute_result"
    }
   ],
   "source": [
    "status=data_set['Status']\n",
    "status"
   ]
  },
  {
   "cell_type": "code",
   "execution_count": 31,
   "metadata": {},
   "outputs": [
    {
     "data": {
      "text/html": [
       "<div>\n",
       "<style scoped>\n",
       "    .dataframe tbody tr th:only-of-type {\n",
       "        vertical-align: middle;\n",
       "    }\n",
       "\n",
       "    .dataframe tbody tr th {\n",
       "        vertical-align: top;\n",
       "    }\n",
       "\n",
       "    .dataframe thead th {\n",
       "        text-align: right;\n",
       "    }\n",
       "</style>\n",
       "<table border=\"1\" class=\"dataframe\">\n",
       "  <thead>\n",
       "    <tr style=\"text-align: right;\">\n",
       "      <th></th>\n",
       "      <th>Complaint_Type</th>\n",
       "      <th>Location_Type</th>\n",
       "      <th>City</th>\n",
       "      <th>Facility_Type</th>\n",
       "      <th>Borough</th>\n",
       "      <th>Park_Borough</th>\n",
       "    </tr>\n",
       "  </thead>\n",
       "  <tbody>\n",
       "    <tr>\n",
       "      <th>0</th>\n",
       "      <td>14</td>\n",
       "      <td>11</td>\n",
       "      <td>31</td>\n",
       "      <td>0</td>\n",
       "      <td>2</td>\n",
       "      <td>2</td>\n",
       "    </tr>\n",
       "    <tr>\n",
       "      <th>1</th>\n",
       "      <td>2</td>\n",
       "      <td>11</td>\n",
       "      <td>1</td>\n",
       "      <td>0</td>\n",
       "      <td>3</td>\n",
       "      <td>3</td>\n",
       "    </tr>\n",
       "    <tr>\n",
       "      <th>2</th>\n",
       "      <td>2</td>\n",
       "      <td>11</td>\n",
       "      <td>6</td>\n",
       "      <td>0</td>\n",
       "      <td>0</td>\n",
       "      <td>0</td>\n",
       "    </tr>\n",
       "    <tr>\n",
       "      <th>3</th>\n",
       "      <td>10</td>\n",
       "      <td>11</td>\n",
       "      <td>6</td>\n",
       "      <td>0</td>\n",
       "      <td>0</td>\n",
       "      <td>0</td>\n",
       "    </tr>\n",
       "    <tr>\n",
       "      <th>4</th>\n",
       "      <td>10</td>\n",
       "      <td>11</td>\n",
       "      <td>13</td>\n",
       "      <td>0</td>\n",
       "      <td>3</td>\n",
       "      <td>3</td>\n",
       "    </tr>\n",
       "    <tr>\n",
       "      <th>...</th>\n",
       "      <td>...</td>\n",
       "      <td>...</td>\n",
       "      <td>...</td>\n",
       "      <td>...</td>\n",
       "      <td>...</td>\n",
       "      <td>...</td>\n",
       "    </tr>\n",
       "    <tr>\n",
       "      <th>187117</th>\n",
       "      <td>2</td>\n",
       "      <td>11</td>\n",
       "      <td>46</td>\n",
       "      <td>0</td>\n",
       "      <td>1</td>\n",
       "      <td>1</td>\n",
       "    </tr>\n",
       "    <tr>\n",
       "      <th>187118</th>\n",
       "      <td>2</td>\n",
       "      <td>11</td>\n",
       "      <td>46</td>\n",
       "      <td>0</td>\n",
       "      <td>1</td>\n",
       "      <td>1</td>\n",
       "    </tr>\n",
       "    <tr>\n",
       "      <th>187119</th>\n",
       "      <td>2</td>\n",
       "      <td>11</td>\n",
       "      <td>46</td>\n",
       "      <td>0</td>\n",
       "      <td>1</td>\n",
       "      <td>1</td>\n",
       "    </tr>\n",
       "    <tr>\n",
       "      <th>187120</th>\n",
       "      <td>2</td>\n",
       "      <td>11</td>\n",
       "      <td>46</td>\n",
       "      <td>0</td>\n",
       "      <td>1</td>\n",
       "      <td>1</td>\n",
       "    </tr>\n",
       "    <tr>\n",
       "      <th>187121</th>\n",
       "      <td>2</td>\n",
       "      <td>11</td>\n",
       "      <td>46</td>\n",
       "      <td>0</td>\n",
       "      <td>1</td>\n",
       "      <td>1</td>\n",
       "    </tr>\n",
       "  </tbody>\n",
       "</table>\n",
       "<p>187122 rows × 6 columns</p>\n",
       "</div>"
      ],
      "text/plain": [
       "        Complaint_Type  Location_Type  City  Facility_Type  Borough  \\\n",
       "0                   14             11    31              0        2   \n",
       "1                    2             11     1              0        3   \n",
       "2                    2             11     6              0        0   \n",
       "3                   10             11     6              0        0   \n",
       "4                   10             11    13              0        3   \n",
       "...                ...            ...   ...            ...      ...   \n",
       "187117               2             11    46              0        1   \n",
       "187118               2             11    46              0        1   \n",
       "187119               2             11    46              0        1   \n",
       "187120               2             11    46              0        1   \n",
       "187121               2             11    46              0        1   \n",
       "\n",
       "        Park_Borough  \n",
       "0                  2  \n",
       "1                  3  \n",
       "2                  0  \n",
       "3                  0  \n",
       "4                  3  \n",
       "...              ...  \n",
       "187117             1  \n",
       "187118             1  \n",
       "187119             1  \n",
       "187120             1  \n",
       "187121             1  \n",
       "\n",
       "[187122 rows x 6 columns]"
      ]
     },
     "execution_count": 31,
     "metadata": {},
     "output_type": "execute_result"
    }
   ],
   "source": [
    "data_set.drop(['Status'],axis=1,inplace=True)\n",
    "data_set"
   ]
  },
  {
   "cell_type": "code",
   "execution_count": 32,
   "metadata": {},
   "outputs": [
    {
     "data": {
      "text/html": [
       "<div>\n",
       "<style scoped>\n",
       "    .dataframe tbody tr th:only-of-type {\n",
       "        vertical-align: middle;\n",
       "    }\n",
       "\n",
       "    .dataframe tbody tr th {\n",
       "        vertical-align: top;\n",
       "    }\n",
       "\n",
       "    .dataframe thead th {\n",
       "        text-align: right;\n",
       "    }\n",
       "</style>\n",
       "<table border=\"1\" class=\"dataframe\">\n",
       "  <thead>\n",
       "    <tr style=\"text-align: right;\">\n",
       "      <th></th>\n",
       "      <th>Complaint_Type</th>\n",
       "      <th>Location_Type</th>\n",
       "      <th>City</th>\n",
       "      <th>Facility_Type</th>\n",
       "      <th>Borough</th>\n",
       "      <th>Park_Borough</th>\n",
       "      <th>Status</th>\n",
       "    </tr>\n",
       "  </thead>\n",
       "  <tbody>\n",
       "    <tr>\n",
       "      <th>0</th>\n",
       "      <td>14</td>\n",
       "      <td>11</td>\n",
       "      <td>31</td>\n",
       "      <td>0</td>\n",
       "      <td>2</td>\n",
       "      <td>2</td>\n",
       "      <td>1</td>\n",
       "    </tr>\n",
       "    <tr>\n",
       "      <th>1</th>\n",
       "      <td>2</td>\n",
       "      <td>11</td>\n",
       "      <td>1</td>\n",
       "      <td>0</td>\n",
       "      <td>3</td>\n",
       "      <td>3</td>\n",
       "      <td>1</td>\n",
       "    </tr>\n",
       "    <tr>\n",
       "      <th>2</th>\n",
       "      <td>2</td>\n",
       "      <td>11</td>\n",
       "      <td>6</td>\n",
       "      <td>0</td>\n",
       "      <td>0</td>\n",
       "      <td>0</td>\n",
       "      <td>1</td>\n",
       "    </tr>\n",
       "    <tr>\n",
       "      <th>3</th>\n",
       "      <td>10</td>\n",
       "      <td>11</td>\n",
       "      <td>6</td>\n",
       "      <td>0</td>\n",
       "      <td>0</td>\n",
       "      <td>0</td>\n",
       "      <td>1</td>\n",
       "    </tr>\n",
       "    <tr>\n",
       "      <th>4</th>\n",
       "      <td>10</td>\n",
       "      <td>11</td>\n",
       "      <td>13</td>\n",
       "      <td>0</td>\n",
       "      <td>3</td>\n",
       "      <td>3</td>\n",
       "      <td>1</td>\n",
       "    </tr>\n",
       "    <tr>\n",
       "      <th>...</th>\n",
       "      <td>...</td>\n",
       "      <td>...</td>\n",
       "      <td>...</td>\n",
       "      <td>...</td>\n",
       "      <td>...</td>\n",
       "      <td>...</td>\n",
       "      <td>...</td>\n",
       "    </tr>\n",
       "    <tr>\n",
       "      <th>187117</th>\n",
       "      <td>2</td>\n",
       "      <td>11</td>\n",
       "      <td>46</td>\n",
       "      <td>0</td>\n",
       "      <td>1</td>\n",
       "      <td>1</td>\n",
       "      <td>3</td>\n",
       "    </tr>\n",
       "    <tr>\n",
       "      <th>187118</th>\n",
       "      <td>2</td>\n",
       "      <td>11</td>\n",
       "      <td>46</td>\n",
       "      <td>0</td>\n",
       "      <td>1</td>\n",
       "      <td>1</td>\n",
       "      <td>3</td>\n",
       "    </tr>\n",
       "    <tr>\n",
       "      <th>187119</th>\n",
       "      <td>2</td>\n",
       "      <td>11</td>\n",
       "      <td>46</td>\n",
       "      <td>0</td>\n",
       "      <td>1</td>\n",
       "      <td>1</td>\n",
       "      <td>3</td>\n",
       "    </tr>\n",
       "    <tr>\n",
       "      <th>187120</th>\n",
       "      <td>2</td>\n",
       "      <td>11</td>\n",
       "      <td>46</td>\n",
       "      <td>0</td>\n",
       "      <td>1</td>\n",
       "      <td>1</td>\n",
       "      <td>3</td>\n",
       "    </tr>\n",
       "    <tr>\n",
       "      <th>187121</th>\n",
       "      <td>2</td>\n",
       "      <td>11</td>\n",
       "      <td>46</td>\n",
       "      <td>0</td>\n",
       "      <td>1</td>\n",
       "      <td>1</td>\n",
       "      <td>3</td>\n",
       "    </tr>\n",
       "  </tbody>\n",
       "</table>\n",
       "<p>187122 rows × 7 columns</p>\n",
       "</div>"
      ],
      "text/plain": [
       "        Complaint_Type  Location_Type  City  Facility_Type  Borough  \\\n",
       "0                   14             11    31              0        2   \n",
       "1                    2             11     1              0        3   \n",
       "2                    2             11     6              0        0   \n",
       "3                   10             11     6              0        0   \n",
       "4                   10             11    13              0        3   \n",
       "...                ...            ...   ...            ...      ...   \n",
       "187117               2             11    46              0        1   \n",
       "187118               2             11    46              0        1   \n",
       "187119               2             11    46              0        1   \n",
       "187120               2             11    46              0        1   \n",
       "187121               2             11    46              0        1   \n",
       "\n",
       "        Park_Borough  Status  \n",
       "0                  2       1  \n",
       "1                  3       1  \n",
       "2                  0       1  \n",
       "3                  0       1  \n",
       "4                  3       1  \n",
       "...              ...     ...  \n",
       "187117             1       3  \n",
       "187118             1       3  \n",
       "187119             1       3  \n",
       "187120             1       3  \n",
       "187121             1       3  \n",
       "\n",
       "[187122 rows x 7 columns]"
      ]
     },
     "execution_count": 32,
     "metadata": {},
     "output_type": "execute_result"
    }
   ],
   "source": [
    "data_set['Status']=status\n",
    "data_set"
   ]
  },
  {
   "cell_type": "code",
   "execution_count": 33,
   "metadata": {},
   "outputs": [
    {
     "data": {
      "text/html": [
       "<div>\n",
       "<style scoped>\n",
       "    .dataframe tbody tr th:only-of-type {\n",
       "        vertical-align: middle;\n",
       "    }\n",
       "\n",
       "    .dataframe tbody tr th {\n",
       "        vertical-align: top;\n",
       "    }\n",
       "\n",
       "    .dataframe thead th {\n",
       "        text-align: right;\n",
       "    }\n",
       "</style>\n",
       "<table border=\"1\" class=\"dataframe\">\n",
       "  <thead>\n",
       "    <tr style=\"text-align: right;\">\n",
       "      <th></th>\n",
       "      <th>Complaint_Type</th>\n",
       "      <th>Location_Type</th>\n",
       "      <th>City</th>\n",
       "      <th>Facility_Type</th>\n",
       "      <th>Borough</th>\n",
       "      <th>Park_Borough</th>\n",
       "    </tr>\n",
       "  </thead>\n",
       "  <tbody>\n",
       "    <tr>\n",
       "      <th>0</th>\n",
       "      <td>14</td>\n",
       "      <td>11</td>\n",
       "      <td>31</td>\n",
       "      <td>0</td>\n",
       "      <td>2</td>\n",
       "      <td>2</td>\n",
       "    </tr>\n",
       "    <tr>\n",
       "      <th>1</th>\n",
       "      <td>2</td>\n",
       "      <td>11</td>\n",
       "      <td>1</td>\n",
       "      <td>0</td>\n",
       "      <td>3</td>\n",
       "      <td>3</td>\n",
       "    </tr>\n",
       "    <tr>\n",
       "      <th>2</th>\n",
       "      <td>2</td>\n",
       "      <td>11</td>\n",
       "      <td>6</td>\n",
       "      <td>0</td>\n",
       "      <td>0</td>\n",
       "      <td>0</td>\n",
       "    </tr>\n",
       "    <tr>\n",
       "      <th>3</th>\n",
       "      <td>10</td>\n",
       "      <td>11</td>\n",
       "      <td>6</td>\n",
       "      <td>0</td>\n",
       "      <td>0</td>\n",
       "      <td>0</td>\n",
       "    </tr>\n",
       "    <tr>\n",
       "      <th>4</th>\n",
       "      <td>10</td>\n",
       "      <td>11</td>\n",
       "      <td>13</td>\n",
       "      <td>0</td>\n",
       "      <td>3</td>\n",
       "      <td>3</td>\n",
       "    </tr>\n",
       "    <tr>\n",
       "      <th>...</th>\n",
       "      <td>...</td>\n",
       "      <td>...</td>\n",
       "      <td>...</td>\n",
       "      <td>...</td>\n",
       "      <td>...</td>\n",
       "      <td>...</td>\n",
       "    </tr>\n",
       "    <tr>\n",
       "      <th>187117</th>\n",
       "      <td>2</td>\n",
       "      <td>11</td>\n",
       "      <td>46</td>\n",
       "      <td>0</td>\n",
       "      <td>1</td>\n",
       "      <td>1</td>\n",
       "    </tr>\n",
       "    <tr>\n",
       "      <th>187118</th>\n",
       "      <td>2</td>\n",
       "      <td>11</td>\n",
       "      <td>46</td>\n",
       "      <td>0</td>\n",
       "      <td>1</td>\n",
       "      <td>1</td>\n",
       "    </tr>\n",
       "    <tr>\n",
       "      <th>187119</th>\n",
       "      <td>2</td>\n",
       "      <td>11</td>\n",
       "      <td>46</td>\n",
       "      <td>0</td>\n",
       "      <td>1</td>\n",
       "      <td>1</td>\n",
       "    </tr>\n",
       "    <tr>\n",
       "      <th>187120</th>\n",
       "      <td>2</td>\n",
       "      <td>11</td>\n",
       "      <td>46</td>\n",
       "      <td>0</td>\n",
       "      <td>1</td>\n",
       "      <td>1</td>\n",
       "    </tr>\n",
       "    <tr>\n",
       "      <th>187121</th>\n",
       "      <td>2</td>\n",
       "      <td>11</td>\n",
       "      <td>46</td>\n",
       "      <td>0</td>\n",
       "      <td>1</td>\n",
       "      <td>1</td>\n",
       "    </tr>\n",
       "  </tbody>\n",
       "</table>\n",
       "<p>187122 rows × 6 columns</p>\n",
       "</div>"
      ],
      "text/plain": [
       "        Complaint_Type  Location_Type  City  Facility_Type  Borough  \\\n",
       "0                   14             11    31              0        2   \n",
       "1                    2             11     1              0        3   \n",
       "2                    2             11     6              0        0   \n",
       "3                   10             11     6              0        0   \n",
       "4                   10             11    13              0        3   \n",
       "...                ...            ...   ...            ...      ...   \n",
       "187117               2             11    46              0        1   \n",
       "187118               2             11    46              0        1   \n",
       "187119               2             11    46              0        1   \n",
       "187120               2             11    46              0        1   \n",
       "187121               2             11    46              0        1   \n",
       "\n",
       "        Park_Borough  \n",
       "0                  2  \n",
       "1                  3  \n",
       "2                  0  \n",
       "3                  0  \n",
       "4                  3  \n",
       "...              ...  \n",
       "187117             1  \n",
       "187118             1  \n",
       "187119             1  \n",
       "187120             1  \n",
       "187121             1  \n",
       "\n",
       "[187122 rows x 6 columns]"
      ]
     },
     "execution_count": 33,
     "metadata": {},
     "output_type": "execute_result"
    }
   ],
   "source": [
    "x=data_set.iloc[:,0:6]    # independent variable\n",
    "x"
   ]
  },
  {
   "cell_type": "code",
   "execution_count": 34,
   "metadata": {},
   "outputs": [
    {
     "data": {
      "text/plain": [
       "0         1\n",
       "1         1\n",
       "2         1\n",
       "3         1\n",
       "4         1\n",
       "         ..\n",
       "187117    3\n",
       "187118    3\n",
       "187119    3\n",
       "187120    3\n",
       "187121    3\n",
       "Name: Status, Length: 187122, dtype: int32"
      ]
     },
     "execution_count": 34,
     "metadata": {},
     "output_type": "execute_result"
    }
   ],
   "source": [
    "y=data_set.iloc[:,6]    # dependent variable\n",
    "y"
   ]
  },
  {
   "cell_type": "code",
   "execution_count": 35,
   "metadata": {},
   "outputs": [
    {
     "name": "stdout",
     "output_type": "stream",
     "text": [
      "0\n"
     ]
    }
   ],
   "source": [
    "print(y.isnull().sum())    # check for null variables in dependent"
   ]
  },
  {
   "cell_type": "code",
   "execution_count": 36,
   "metadata": {},
   "outputs": [],
   "source": [
    "# Splitting data for algorithm\n",
    "X_train,X_test,y_train,y_test = model_selection.train_test_split(x,y,test_size=0.3,random_state=42)"
   ]
  },
  {
   "cell_type": "code",
   "execution_count": 37,
   "metadata": {},
   "outputs": [
    {
     "name": "stdout",
     "output_type": "stream",
     "text": [
      "(130985, 6)\n"
     ]
    }
   ],
   "source": [
    "print(X_train.shape)"
   ]
  },
  {
   "cell_type": "code",
   "execution_count": 38,
   "metadata": {},
   "outputs": [
    {
     "name": "stdout",
     "output_type": "stream",
     "text": [
      "(130985,)\n"
     ]
    }
   ],
   "source": [
    "print(y_train.shape)"
   ]
  },
  {
   "cell_type": "code",
   "execution_count": 39,
   "metadata": {},
   "outputs": [
    {
     "name": "stdout",
     "output_type": "stream",
     "text": [
      "(56137, 6)\n"
     ]
    }
   ],
   "source": [
    "print(X_test.shape)"
   ]
  },
  {
   "cell_type": "code",
   "execution_count": 40,
   "metadata": {},
   "outputs": [
    {
     "name": "stdout",
     "output_type": "stream",
     "text": [
      "(56137,)\n"
     ]
    }
   ],
   "source": [
    "print(y_test.shape)"
   ]
  },
  {
   "cell_type": "code",
   "execution_count": 41,
   "metadata": {},
   "outputs": [],
   "source": [
    "# Using standard scaler to scale data\n",
    "ss= StandardScaler()\n",
    "XX_train=ss.fit_transform(X_train)\n",
    "XX_test=ss.fit_transform(X_test)"
   ]
  },
  {
   "cell_type": "code",
   "execution_count": 42,
   "metadata": {},
   "outputs": [
    {
     "name": "stdout",
     "output_type": "stream",
     "text": [
      "187122\n"
     ]
    }
   ],
   "source": [
    "print(len(y))"
   ]
  },
  {
   "cell_type": "code",
   "execution_count": 43,
   "metadata": {},
   "outputs": [
    {
     "name": "stdout",
     "output_type": "stream",
     "text": [
      "236.93247983339052\n"
     ]
    }
   ],
   "source": [
    "print(math.sqrt(len(y_test)) )"
   ]
  },
  {
   "cell_type": "code",
   "execution_count": 44,
   "metadata": {},
   "outputs": [
    {
     "data": {
      "text/plain": [
       "KNeighborsClassifier(algorithm='auto', leaf_size=30, metric='minkowski',\n",
       "                     metric_params=None, n_jobs=None, n_neighbors=20, p=2,\n",
       "                     weights='uniform')"
      ]
     },
     "execution_count": 44,
     "metadata": {},
     "output_type": "execute_result"
    }
   ],
   "source": [
    "# Train Model - K Nearest Neighbors\n",
    "category= KNeighborsClassifier(n_neighbors=20)\n",
    "category.fit(XX_train,y_train)"
   ]
  },
  {
   "cell_type": "code",
   "execution_count": 45,
   "metadata": {},
   "outputs": [
    {
     "name": "stdout",
     "output_type": "stream",
     "text": [
      "[3 3 3 ... 1 3 3]\n"
     ]
    }
   ],
   "source": [
    "y_predict=category.predict(XX_test)\n",
    "print(y_predict)"
   ]
  },
  {
   "cell_type": "code",
   "execution_count": 46,
   "metadata": {},
   "outputs": [
    {
     "data": {
      "text/plain": [
       "0.9992162032171296"
      ]
     },
     "execution_count": 46,
     "metadata": {},
     "output_type": "execute_result"
    }
   ],
   "source": [
    "accuracy_score(y_test,y_predict)    # Accuracy of KNN"
   ]
  },
  {
   "cell_type": "code",
   "execution_count": 47,
   "metadata": {},
   "outputs": [
    {
     "data": {
      "text/html": [
       "<div>\n",
       "<style scoped>\n",
       "    .dataframe tbody tr th:only-of-type {\n",
       "        vertical-align: middle;\n",
       "    }\n",
       "\n",
       "    .dataframe tbody tr th {\n",
       "        vertical-align: top;\n",
       "    }\n",
       "\n",
       "    .dataframe thead th {\n",
       "        text-align: right;\n",
       "    }\n",
       "</style>\n",
       "<table border=\"1\" class=\"dataframe\">\n",
       "  <thead>\n",
       "    <tr style=\"text-align: right;\">\n",
       "      <th></th>\n",
       "      <th>Complaint_Type</th>\n",
       "      <th>Location_Type</th>\n",
       "      <th>City</th>\n",
       "      <th>Facility_Type</th>\n",
       "      <th>Borough</th>\n",
       "      <th>Park_Borough</th>\n",
       "      <th>Status</th>\n",
       "    </tr>\n",
       "  </thead>\n",
       "  <tbody>\n",
       "    <tr>\n",
       "      <th>0</th>\n",
       "      <td>14</td>\n",
       "      <td>11</td>\n",
       "      <td>31</td>\n",
       "      <td>0</td>\n",
       "      <td>2</td>\n",
       "      <td>2</td>\n",
       "      <td>1</td>\n",
       "    </tr>\n",
       "    <tr>\n",
       "      <th>1</th>\n",
       "      <td>2</td>\n",
       "      <td>11</td>\n",
       "      <td>1</td>\n",
       "      <td>0</td>\n",
       "      <td>3</td>\n",
       "      <td>3</td>\n",
       "      <td>1</td>\n",
       "    </tr>\n",
       "    <tr>\n",
       "      <th>2</th>\n",
       "      <td>2</td>\n",
       "      <td>11</td>\n",
       "      <td>6</td>\n",
       "      <td>0</td>\n",
       "      <td>0</td>\n",
       "      <td>0</td>\n",
       "      <td>1</td>\n",
       "    </tr>\n",
       "    <tr>\n",
       "      <th>3</th>\n",
       "      <td>10</td>\n",
       "      <td>11</td>\n",
       "      <td>6</td>\n",
       "      <td>0</td>\n",
       "      <td>0</td>\n",
       "      <td>0</td>\n",
       "      <td>1</td>\n",
       "    </tr>\n",
       "    <tr>\n",
       "      <th>4</th>\n",
       "      <td>10</td>\n",
       "      <td>11</td>\n",
       "      <td>13</td>\n",
       "      <td>0</td>\n",
       "      <td>3</td>\n",
       "      <td>3</td>\n",
       "      <td>1</td>\n",
       "    </tr>\n",
       "    <tr>\n",
       "      <th>...</th>\n",
       "      <td>...</td>\n",
       "      <td>...</td>\n",
       "      <td>...</td>\n",
       "      <td>...</td>\n",
       "      <td>...</td>\n",
       "      <td>...</td>\n",
       "      <td>...</td>\n",
       "    </tr>\n",
       "    <tr>\n",
       "      <th>187117</th>\n",
       "      <td>2</td>\n",
       "      <td>11</td>\n",
       "      <td>46</td>\n",
       "      <td>0</td>\n",
       "      <td>1</td>\n",
       "      <td>1</td>\n",
       "      <td>3</td>\n",
       "    </tr>\n",
       "    <tr>\n",
       "      <th>187118</th>\n",
       "      <td>2</td>\n",
       "      <td>11</td>\n",
       "      <td>46</td>\n",
       "      <td>0</td>\n",
       "      <td>1</td>\n",
       "      <td>1</td>\n",
       "      <td>3</td>\n",
       "    </tr>\n",
       "    <tr>\n",
       "      <th>187119</th>\n",
       "      <td>2</td>\n",
       "      <td>11</td>\n",
       "      <td>46</td>\n",
       "      <td>0</td>\n",
       "      <td>1</td>\n",
       "      <td>1</td>\n",
       "      <td>3</td>\n",
       "    </tr>\n",
       "    <tr>\n",
       "      <th>187120</th>\n",
       "      <td>2</td>\n",
       "      <td>11</td>\n",
       "      <td>46</td>\n",
       "      <td>0</td>\n",
       "      <td>1</td>\n",
       "      <td>1</td>\n",
       "      <td>3</td>\n",
       "    </tr>\n",
       "    <tr>\n",
       "      <th>187121</th>\n",
       "      <td>2</td>\n",
       "      <td>11</td>\n",
       "      <td>46</td>\n",
       "      <td>0</td>\n",
       "      <td>1</td>\n",
       "      <td>1</td>\n",
       "      <td>3</td>\n",
       "    </tr>\n",
       "  </tbody>\n",
       "</table>\n",
       "<p>187122 rows × 7 columns</p>\n",
       "</div>"
      ],
      "text/plain": [
       "        Complaint_Type  Location_Type  City  Facility_Type  Borough  \\\n",
       "0                   14             11    31              0        2   \n",
       "1                    2             11     1              0        3   \n",
       "2                    2             11     6              0        0   \n",
       "3                   10             11     6              0        0   \n",
       "4                   10             11    13              0        3   \n",
       "...                ...            ...   ...            ...      ...   \n",
       "187117               2             11    46              0        1   \n",
       "187118               2             11    46              0        1   \n",
       "187119               2             11    46              0        1   \n",
       "187120               2             11    46              0        1   \n",
       "187121               2             11    46              0        1   \n",
       "\n",
       "        Park_Borough  Status  \n",
       "0                  2       1  \n",
       "1                  3       1  \n",
       "2                  0       1  \n",
       "3                  0       1  \n",
       "4                  3       1  \n",
       "...              ...     ...  \n",
       "187117             1       3  \n",
       "187118             1       3  \n",
       "187119             1       3  \n",
       "187120             1       3  \n",
       "187121             1       3  \n",
       "\n",
       "[187122 rows x 7 columns]"
      ]
     },
     "execution_count": 47,
     "metadata": {},
     "output_type": "execute_result"
    }
   ],
   "source": [
    "data_set"
   ]
  },
  {
   "cell_type": "code",
   "execution_count": 48,
   "metadata": {},
   "outputs": [],
   "source": [
    "from sklearn.tree import DecisionTreeClassifier\n",
    "\n",
    "X_train,X_test,y_train,y_test=model_selection.train_test_split(x,y,random_state=42,test_size=0.3)"
   ]
  },
  {
   "cell_type": "code",
   "execution_count": 49,
   "metadata": {},
   "outputs": [
    {
     "name": "stdout",
     "output_type": "stream",
     "text": [
      "[3 3 3 ... 1 3 3]\n"
     ]
    }
   ],
   "source": [
    "# Train model - Decision Tree\n",
    "dtclf=DecisionTreeClassifier(criterion='entropy')\n",
    "dtclf.fit(X_train,y_train)\n",
    "y_pred = dtclf.predict(X_test)\n",
    "print(y_pred)\n"
   ]
  },
  {
   "cell_type": "code",
   "execution_count": 50,
   "metadata": {},
   "outputs": [
    {
     "name": "stdout",
     "output_type": "stream",
     "text": [
      "0.9992340167803766\n"
     ]
    }
   ],
   "source": [
    "print(accuracy_score(y_test,y_pred))    # Accuracy of Decision Tree"
   ]
  },
  {
   "cell_type": "code",
   "execution_count": null,
   "metadata": {},
   "outputs": [],
   "source": []
  }
 ],
 "metadata": {
  "kernelspec": {
   "display_name": "Python 3",
   "language": "python",
   "name": "python3"
  },
  "language_info": {
   "codemirror_mode": {
    "name": "ipython",
    "version": 3
   },
   "file_extension": ".py",
   "mimetype": "text/x-python",
   "name": "python",
   "nbconvert_exporter": "python",
   "pygments_lexer": "ipython3",
   "version": "3.7.3"
  }
 },
 "nbformat": 4,
 "nbformat_minor": 2
}
